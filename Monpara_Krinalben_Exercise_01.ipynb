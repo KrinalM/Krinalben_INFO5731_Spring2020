{
  "cells": [
    {
      "cell_type": "markdown",
      "metadata": {
        "id": "view-in-github",
        "colab_type": "text"
      },
      "source": [
        "<a href=\"https://colab.research.google.com/github/KrinalM/Krinalben_INFO5731_Spring2020/blob/main/Monpara_Krinalben_Exercise_01.ipynb\" target=\"_parent\"><img src=\"https://colab.research.google.com/assets/colab-badge.svg\" alt=\"Open In Colab\"/></a>"
      ]
    },
    {
      "cell_type": "markdown",
      "metadata": {
        "id": "DymRJbxDBCnf"
      },
      "source": [
        "# **This first In-class-exercise cover a variety of fundamental concepts in Python and are designed to help individuals improve their coding skills and problem-solving abilities.**\n",
        "\n",
        "The submission is due on 01/31/2024 11:59 PM. This submission is worth 40 points in total.\n"
      ]
    },
    {
      "cell_type": "markdown",
      "source": [
        "(1) Write a Python program that  prompts the user to input the length and width of a rectangle, and then calculates and displays the area of the rectangle."
      ],
      "metadata": {
        "id": "FBKvD6O_TY6e"
      }
    },
    {
      "cell_type": "code",
      "source": [
        "length = float(input(\"Enter the length of the rectangle: \"))\n",
        "width = float(input(\"Enter the width of the rectangle: \"))\n",
        "area=length*width\n",
        "print(f\"The area of the rectangle is: {area}\")"
      ],
      "metadata": {
        "id": "cikVKDXdTbzE",
        "colab": {
          "base_uri": "https://localhost:8080/"
        },
        "outputId": "ed60680a-4604-4b06-9ba6-15f00c236175"
      },
      "execution_count": 1,
      "outputs": [
        {
          "output_type": "stream",
          "name": "stdout",
          "text": [
            "Enter the length of the rectangle: 5\n",
            "Enter the width of the rectangle: 5\n",
            "The area of the rectangle is: 25.0\n"
          ]
        }
      ]
    },
    {
      "cell_type": "markdown",
      "source": [
        "(2) Create a Python program that interactively takes two numerical inputs from the user and swaps their values without utilizing an extra variable."
      ],
      "metadata": {
        "id": "E9RqrlwdTfvl"
      }
    },
    {
      "cell_type": "code",
      "source": [
        "num1 = float(input(\"Enter the 1st number: \"))\n",
        "num2 = float(input(\"Enter the 2nd number: \"))\n",
        "# Original Values\n",
        "print(\"\\nOriginal values:\")\n",
        "print(\"First number:\", num1)\n",
        "print(\"Second number:\", num2)\n",
        "num1, num2 = num2, num1\n",
        "# Swapped Values\n",
        "print(\"\\nSwapping values:\")\n",
        "print(\"First number:\", num1)\n",
        "print(\"Second number:\", num2)"
      ],
      "metadata": {
        "id": "4XvRknixTh1g",
        "colab": {
          "base_uri": "https://localhost:8080/"
        },
        "outputId": "30557645-7ce8-41d2-8f32-9eed6cf2ff92"
      },
      "execution_count": 2,
      "outputs": [
        {
          "output_type": "stream",
          "name": "stdout",
          "text": [
            "Enter the 1st number: 4\n",
            "Enter the 2nd number: 5\n",
            "\n",
            "Original values:\n",
            "First number: 4.0\n",
            "Second number: 5.0\n",
            "\n",
            "Swapping values:\n",
            "First number: 5.0\n",
            "Second number: 4.0\n"
          ]
        }
      ]
    },
    {
      "cell_type": "markdown",
      "metadata": {
        "id": "03jb4GZsBkBS"
      },
      "source": [
        "(3) Write a Python script to determine and print the length of a user-input string."
      ]
    },
    {
      "cell_type": "code",
      "execution_count": 3,
      "metadata": {
        "id": "YaGLbSHHB8Ej",
        "colab": {
          "base_uri": "https://localhost:8080/"
        },
        "outputId": "412a72ff-f1be-4cba-f9bd-2106e89a77a0"
      },
      "outputs": [
        {
          "output_type": "stream",
          "name": "stdout",
          "text": [
            "Enter a string: Hello World\n",
            "Length of the input string: 11\n"
          ]
        }
      ],
      "source": [
        "user = input(\"Enter a string: \")\n",
        "# print the length of the input string\n",
        "length = len(user)\n",
        "print(\"Length of the input string:\", length)"
      ]
    },
    {
      "cell_type": "markdown",
      "metadata": {
        "id": "jJDe71iLB616"
      },
      "source": [
        "(4) Construct a Python program that counts and displays the occurrences of each character in a given string.\n",
        "\n",
        "Sample String: 'openai.ai',\n",
        "\n",
        "Expected Result: {'a': 2, 'i': 2, '.': 1, 'o': 1, 'p': 1, 'e': 1, 'n': 1}"
      ]
    },
    {
      "cell_type": "code",
      "source": [
        "string = 'openai.ai'\n",
        "count = {}\n",
        "for char in string:\n",
        "    count[char] = count.get(char, 0) + 1\n",
        "\n",
        "# Display the result\n",
        "print(\"Occurrences of each character:\")\n",
        "print(count)"
      ],
      "metadata": {
        "colab": {
          "base_uri": "https://localhost:8080/"
        },
        "id": "YqvUpmXMZXic",
        "outputId": "98c08945-6f11-4c32-fd11-8672555efa55"
      },
      "execution_count": 4,
      "outputs": [
        {
          "output_type": "stream",
          "name": "stdout",
          "text": [
            "Occurrences of each character:\n",
            "{'o': 1, 'p': 1, 'e': 1, 'n': 1, 'a': 2, 'i': 2, '.': 1}\n"
          ]
        }
      ]
    },
    {
      "cell_type": "markdown",
      "metadata": {
        "id": "55W9AMdXCSpV"
      },
      "source": [
        "(5) Design a Python code to calculate the sum of all elements in a user-provided list."
      ]
    },
    {
      "cell_type": "code",
      "execution_count": 5,
      "metadata": {
        "id": "I57NXsauCec2",
        "colab": {
          "base_uri": "https://localhost:8080/"
        },
        "outputId": "d06d2c28-bdb3-4fcb-a2c0-b5992fe4b0c4"
      },
      "outputs": [
        {
          "output_type": "stream",
          "name": "stdout",
          "text": [
            "Enter a list of numbers separated by spaces: 3 4 5 6 1\n",
            "Sum of the elements: 19\n"
          ]
        }
      ],
      "source": [
        "# Get input from the user\n",
        "user_input = input(\"Enter a list of numbers separated by spaces: \")\n",
        "\n",
        "# Convert the input string to a list of integers\n",
        "numbers_list = [int(num) for num in user_input.split()]\n",
        "\n",
        "# Calculate the sum of the elements in the list\n",
        "sum_of_elements = sum(numbers_list)\n",
        "\n",
        "# Display the result\n",
        "print(\"Sum of the elements:\", sum_of_elements)"
      ]
    },
    {
      "cell_type": "markdown",
      "metadata": {
        "id": "4ulBZ6yhCi9F"
      },
      "source": [
        "(6) Write a Python program that modifies a given string by replacing all occurrences of its first character with '$', excluding the first character itself.\n",
        "\n",
        "\n",
        "Sample String : 'restart‘,\n",
        "\n",
        "Expected Result : 'resta\\$t'"
      ]
    },
    {
      "cell_type": "code",
      "execution_count": 6,
      "metadata": {
        "id": "Fj0XhwbBCw2o",
        "colab": {
          "base_uri": "https://localhost:8080/"
        },
        "outputId": "49602cc8-6d6e-4429-d0d5-ac6cd3567a00"
      },
      "outputs": [
        {
          "output_type": "stream",
          "name": "stdout",
          "text": [
            "Original String: restart\n",
            "Modified String: resta$t\n"
          ]
        }
      ],
      "source": [
        "def modify_string(input_str):\n",
        "    if len(input_str) < 2:\n",
        "        return input_str  # Nothing to modify if the string has less than 2 characters\n",
        "\n",
        "    first_char = input_str[0]\n",
        "    modified_str = first_char + input_str[1:].replace(first_char, '$')\n",
        "\n",
        "    return modified_str\n",
        "\n",
        "# Sample String\n",
        "sample_string = 'restart'\n",
        "\n",
        "# Modify the string and print the result\n",
        "result = modify_string(sample_string)\n",
        "print(\"Original String:\", sample_string)\n",
        "print(\"Modified String:\", result)\n"
      ]
    },
    {
      "cell_type": "markdown",
      "source": [
        "(7) Write a Python program using a while loop to compute the factorial of a user-supplied number."
      ],
      "metadata": {
        "id": "qVXA3q7ET5JI"
      }
    },
    {
      "cell_type": "code",
      "source": [
        "def calculate_factorial(n):\n",
        "    if n < 0:\n",
        "        return \"Factorial is not defined for negative numbers.\"\n",
        "    elif n == 0 or n == 1:\n",
        "        return 1\n",
        "\n",
        "    factorial_result = 1\n",
        "    while n > 1:\n",
        "        factorial_result *= n\n",
        "        n -= 1\n",
        "\n",
        "    return factorial_result\n",
        "\n",
        "# Get user input for the number\n",
        "user_input = input(\"Enter a non-negative integer to calculate its factorial: \")\n",
        "\n",
        "try:\n",
        "    user_number = int(user_input)\n",
        "    result = calculate_factorial(user_number)\n",
        "    print(f\"The factorial of {user_number} is: {result}\")\n",
        "except ValueError:\n",
        "    print(\"Invalid input. Please enter a non-negative integer.\")"
      ],
      "metadata": {
        "id": "Lbt7R6UkT7BA",
        "colab": {
          "base_uri": "https://localhost:8080/"
        },
        "outputId": "bd0b426d-05e2-44d3-a937-9caa1d6bc68e"
      },
      "execution_count": 7,
      "outputs": [
        {
          "output_type": "stream",
          "name": "stdout",
          "text": [
            "Enter a non-negative integer to calculate its factorial: 5\n",
            "The factorial of 5 is: 120\n"
          ]
        }
      ]
    },
    {
      "cell_type": "markdown",
      "source": [
        "(8) Create a program that accepts a list of numbers as input and outputs a new list containing only the even numbers."
      ],
      "metadata": {
        "id": "6YfbzXMNT--R"
      }
    },
    {
      "cell_type": "code",
      "source": [
        "def filter_even_numbers(input_list):\n",
        "    even_numbers = [num for num in input_list if num % 2 == 0]\n",
        "    return even_numbers\n",
        "\n",
        "input_numbers = input(\"Enter a list of numbers separated by spaces: \")\n",
        "\n",
        "# Convert the input string to a list of integers\n",
        "input_list = [int(num) for num in input_numbers.split()]\n",
        "\n",
        "# Call the function to filter even numbers\n",
        "result = filter_even_numbers(input_list)\n",
        "\n",
        "# Display the result\n",
        "print(\"List of even numbers:\", result)"
      ],
      "metadata": {
        "id": "54q7wMQPUAKu",
        "colab": {
          "base_uri": "https://localhost:8080/"
        },
        "outputId": "0a3886ea-e599-4333-fe5f-f8949b7f0f6f"
      },
      "execution_count": 8,
      "outputs": [
        {
          "output_type": "stream",
          "name": "stdout",
          "text": [
            "Enter a list of numbers separated by spaces: 4 5 3 6 7 8 1 3 2\n",
            "List of even numbers: [4, 6, 8, 2]\n"
          ]
        }
      ]
    },
    {
      "cell_type": "markdown",
      "metadata": {
        "id": "_bIP7s1MCzue"
      },
      "source": [
        "\n",
        "(9) Design a Python function to check if a number is prime.\n"
      ]
    },
    {
      "cell_type": "code",
      "execution_count": 9,
      "metadata": {
        "id": "w79QilHXD3Mg",
        "colab": {
          "base_uri": "https://localhost:8080/"
        },
        "outputId": "6ef26765-59e1-4faf-b6d1-28ac175ee5a9"
      },
      "outputs": [
        {
          "output_type": "stream",
          "name": "stdout",
          "text": [
            "Enter a number: 4\n",
            "4 is not a prime number.\n"
          ]
        }
      ],
      "source": [
        "def is_prime(number):\n",
        "    # Check if the number is less than 2\n",
        "    if number < 2:\n",
        "        return False\n",
        "\n",
        "    # Check for factors from 2 to the square root of the number\n",
        "    for i in range(2, int(number**0.5) + 1):\n",
        "        if number % i == 0:\n",
        "            return False  # The number is not prime\n",
        "\n",
        "    return True  # The number is prime\n",
        "\n",
        "num_to_check = int(input(\"Enter a number: \"))\n",
        "if is_prime(num_to_check):\n",
        "    print(num_to_check, \"is a prime number.\")\n",
        "else:\n",
        "    print(num_to_check, \"is not a prime number.\")"
      ]
    },
    {
      "cell_type": "markdown",
      "metadata": {
        "id": "xCa2bK9aD4Q3"
      },
      "source": [
        "(10) Write a Python program to concatenate following dictionaries to create a new one.\n",
        "\n",
        "Sample Dictionary : dic1={1:10, 2:20}, dic2={3:30, 4:40}, dic3={5:50,6:60},\n",
        "\n",
        "Expected Result : {1: 10, 2: 20, 3: 30, 4: 40, 5: 50, 6: 60}\n"
      ]
    },
    {
      "cell_type": "code",
      "execution_count": 10,
      "metadata": {
        "id": "_z4aLqAbEET1",
        "colab": {
          "base_uri": "https://localhost:8080/"
        },
        "outputId": "99e211e6-80d3-4f20-de2c-ce9ffc265417"
      },
      "outputs": [
        {
          "output_type": "stream",
          "name": "stdout",
          "text": [
            "Concatenated dictionary: {1: 10, 2: 20, 3: 30, 4: 40, 5: 50, 6: 60}\n"
          ]
        }
      ],
      "source": [
        "# Sample dictionaries\n",
        "dic1 = {1: 10, 2: 20}\n",
        "dic2 = {3: 30, 4: 40}\n",
        "dic3 = {5: 50, 6: 60}\n",
        "\n",
        "# Concatenate dictionaries\n",
        "result_dict = {}\n",
        "\n",
        "for d in [dic1, dic2, dic3]:\n",
        "    result_dict.update(d)\n",
        "\n",
        "# Display the result\n",
        "print(\"Concatenated dictionary:\", result_dict)"
      ]
    },
    {
      "cell_type": "markdown",
      "source": [
        "(11) Design a Python function that takes a tuple of integers as input and returns the largest and smallest elements."
      ],
      "metadata": {
        "id": "bkyZ2xSZUOst"
      }
    },
    {
      "cell_type": "code",
      "source": [
        "def find_largest_and_smallest(numbers_tuple):\n",
        "    # Check if the input tuple is not empty\n",
        "    if not numbers_tuple:\n",
        "        return None, None\n",
        "\n",
        "    # Use max and min functions to find the largest and smallest elements\n",
        "    largest = max(numbers_tuple)\n",
        "    smallest = min(numbers_tuple)\n",
        "\n",
        "    return largest, smallest\n",
        "\n",
        "# Example usage\n",
        "input_tuple = tuple(map(int, input(\"Enter a tuple of integers separated by spaces: \").split()))\n",
        "\n",
        "largest, smallest = find_largest_and_smallest(input_tuple)\n",
        "\n",
        "if largest is not None and smallest is not None:\n",
        "    print(\"Largest element:\", largest)\n",
        "    print(\"Smallest element:\", smallest)\n",
        "else:\n",
        "    print(\"Input tuple is empty.\")"
      ],
      "metadata": {
        "id": "3FdLRBKOUQEd",
        "colab": {
          "base_uri": "https://localhost:8080/"
        },
        "outputId": "8f1b39d3-8601-42d3-ead2-ef5cdde24f34"
      },
      "execution_count": 11,
      "outputs": [
        {
          "output_type": "stream",
          "name": "stdout",
          "text": [
            "Enter a tuple of integers separated by spaces: 34 2 1 45 64 4 32 \n",
            "Largest element: 64\n",
            "Smallest element: 1\n"
          ]
        }
      ]
    },
    {
      "cell_type": "markdown",
      "source": [
        "(12) Write a Python program that counts the frequency of each character in a given string and stores it in a dictionary."
      ],
      "metadata": {
        "id": "O0TVi3gKUTpp"
      }
    },
    {
      "cell_type": "code",
      "source": [
        "def count_char_frequency(input_string):\n",
        "    char_frequency = {}\n",
        "\n",
        "    # Iterate through the characters in the input string\n",
        "    for char in input_string:\n",
        "        # Increment the count for each character in the dictionary\n",
        "        char_frequency[char] = char_frequency.get(char, 0) + 1\n",
        "\n",
        "    return char_frequency\n",
        "\n",
        "# Example usage\n",
        "input_string = input(\"Enter a string: \")\n",
        "\n",
        "# Call the function to count character frequency\n",
        "result = count_char_frequency(input_string)\n",
        "\n",
        "# Display the result\n",
        "print(\"Character frequency:\", result)"
      ],
      "metadata": {
        "id": "lAtfSfZXUU-h",
        "colab": {
          "base_uri": "https://localhost:8080/"
        },
        "outputId": "b9b6388a-685f-40af-c29f-2bec93893a0e"
      },
      "execution_count": 12,
      "outputs": [
        {
          "output_type": "stream",
          "name": "stdout",
          "text": [
            "Enter a string: Hello World\n",
            "Character frequency: {'H': 1, 'e': 1, 'l': 3, 'o': 2, ' ': 1, 'W': 1, 'r': 1, 'd': 1}\n"
          ]
        }
      ]
    },
    {
      "cell_type": "markdown",
      "metadata": {
        "id": "0v48Vqa7FrQh"
      },
      "source": [
        "\n",
        "(13) Implement a Python script to identify duplicate elements in a provided array of integers. Return -1 if there are no duplicates."
      ]
    },
    {
      "cell_type": "code",
      "execution_count": 13,
      "metadata": {
        "id": "7WEmgq-DF2P1",
        "colab": {
          "base_uri": "https://localhost:8080/"
        },
        "outputId": "b926152b-2536-46c2-c4a4-449b61b73599"
      },
      "outputs": [
        {
          "output_type": "stream",
          "name": "stdout",
          "text": [
            "Enter an array of integers separated by spaces: 2 3 43 5 74 2 3 4 5 2 3\n",
            "Duplicate elements: [2, 3, 5]\n"
          ]
        }
      ],
      "source": [
        "def find_duplicates(arr):\n",
        "    seen = set()\n",
        "    duplicates = set()\n",
        "\n",
        "    for num in arr:\n",
        "        if num in seen:\n",
        "            duplicates.add(num)\n",
        "        else:\n",
        "            seen.add(num)\n",
        "\n",
        "    if not duplicates:\n",
        "        return -1\n",
        "    else:\n",
        "        return list(duplicates)\n",
        "\n",
        "# Example usage\n",
        "input_array = list(map(int, input(\"Enter an array of integers separated by spaces: \").split()))\n",
        "\n",
        "result = find_duplicates(input_array)\n",
        "\n",
        "if result == -1:\n",
        "    print(\"No duplicates found.\")\n",
        "else:\n",
        "    print(\"Duplicate elements:\", result)"
      ]
    },
    {
      "cell_type": "markdown",
      "metadata": {
        "id": "vD5PYLMuGga_"
      },
      "source": [
        "(14) Write a Python script to find the common elements between two lists."
      ]
    },
    {
      "cell_type": "code",
      "execution_count": 14,
      "metadata": {
        "id": "t0D5kdJUGjjw",
        "colab": {
          "base_uri": "https://localhost:8080/"
        },
        "outputId": "32a24bd0-cb55-48c8-8336-5cf93ca8ab1d"
      },
      "outputs": [
        {
          "output_type": "stream",
          "name": "stdout",
          "text": [
            "Enter the first list of elements separated by spaces: 2 3 4 32 4 5 1 2 3 4 45 32\n",
            "Enter the second list of elements separated by spaces: 3 4 6 23 32 4 5 2 1 6 5\n",
            "Common elements: [32, 1, 2, 3, 4, 5]\n"
          ]
        }
      ],
      "source": [
        "def find_common_elements(list1, list2):\n",
        "    common_elements = set(list1) & set(list2)\n",
        "    return list(common_elements)\n",
        "\n",
        "# Example usage\n",
        "list1 = list(map(int, input(\"Enter the first list of elements separated by spaces: \").split()))\n",
        "list2 = list(map(int, input(\"Enter the second list of elements separated by spaces: \").split()))\n",
        "\n",
        "result = find_common_elements(list1, list2)\n",
        "\n",
        "if result:\n",
        "    print(\"Common elements:\", result)\n",
        "else:\n",
        "    print(\"No common elements found.\")"
      ]
    },
    {
      "cell_type": "markdown",
      "metadata": {
        "id": "uHkd-y5VhVWC"
      },
      "source": [
        "(15) Write a Python program to randomly divide the students in this class into six groups for term projects, each group should have at least 4 students but no more than 6 students (including 6).\n",
        "\n",
        "Here is the students list:\n",
        "\n",
        "student_list_spring_2024=[rb0846,\n",
        "ac1964,\n",
        "hc0612,\n",
        "md0912,\n",
        "ad1198,\n",
        "md0894,\n",
        "md0825,\n",
        "vg0598,\n",
        "vg0433,\n",
        "mh1068,\n",
        "yj0173,\n",
        "pk0553,\n",
        "tk0411,\n",
        "srk0204,\n",
        "sk2922,\n",
        "sk2936,\n",
        "mk1302,\n",
        "mk1317,\n",
        "tk0412,\n",
        "vk0656,\n",
        "sm2985,\n",
        "mm2372,\n",
        "un0045,\n",
        "an0892,\n",
        "sn0913,\n",
        "gp0252,\n",
        "ap1484,\n",
        "mr1765,\n",
        "sr1385,\n",
        "sr1335,\n",
        "hs0665,\n",
        "ms2060,\n",
        "gt0217,\n",
        "nt0385,\n",
        "tv0186,\n",
        "sv1394,\n",
        "sv1752,\n",
        "sv1555,\n",
        "sy0594\n",
        "]\n"
      ]
    },
    {
      "cell_type": "code",
      "execution_count": 15,
      "metadata": {
        "id": "3iGbmcOBhTwy",
        "colab": {
          "base_uri": "https://localhost:8080/"
        },
        "outputId": "8ceb864c-fdc3-4630-e622-f200627accd1"
      },
      "outputs": [
        {
          "output_type": "stream",
          "name": "stdout",
          "text": [
            "Group 1: ['srk0204', 'hs0665', 'sv1752', 'mr1765', 'sv1555', 'vk0656']\n",
            "Group 2: ['md0825', 'mm2372', 'ms2060', 'vg0433', 'mk1317', 'hc0612']\n",
            "Group 3: ['ac1964', 'sk2922', 'md0912', 'sm2985', 'nt0385', 'an0892']\n",
            "Group 4: ['gt0217', 'sr1385', 'md0894', 'gp0252', 'sv1394', 'un0045']\n",
            "Group 5: ['sk2936', 'yj0173', 'tk0412', 'mh1068', 'tk0411', 'rb0846']\n",
            "Group 6: ['sr1335', 'mk1302', 'tv0186', 'ad1198', 'vg0598', 'sn0913']\n",
            "Group 7: ['sy0594', 'pk0553', 'ap1484']\n"
          ]
        }
      ],
      "source": [
        "import random\n",
        "\n",
        "def divide_students_into_groups(student_list):\n",
        "    # Shuffle the student list randomly\n",
        "    random.shuffle(student_list)\n",
        "\n",
        "    # Calculate the number of students per group\n",
        "    students_per_group = len(student_list) // 6\n",
        "\n",
        "    # Initialize an empty list to store the groups\n",
        "    groups = []\n",
        "\n",
        "    # Divide the students into groups\n",
        "    for i in range(0, len(student_list), students_per_group):\n",
        "        group = student_list[i:i + students_per_group]\n",
        "        groups.append(group)\n",
        "\n",
        "    return groups\n",
        "\n",
        "# Student list for the spring 2024 term\n",
        "student_list_spring_2024 = [\"rb0846\", \"ac1964\", \"hc0612\", \"md0912\", \"ad1198\", \"md0894\", \"md0825\", \"vg0598\", \"vg0433\",\n",
        "                            \"mh1068\", \"yj0173\", \"pk0553\", \"tk0411\", \"srk0204\", \"sk2922\", \"sk2936\", \"mk1302\", \"mk1317\",\n",
        "                            \"tk0412\", \"vk0656\", \"sm2985\", \"mm2372\", \"un0045\", \"an0892\", \"sn0913\", \"gp0252\", \"ap1484\",\n",
        "                            \"mr1765\", \"sr1385\", \"sr1335\", \"hs0665\", \"ms2060\", \"gt0217\", \"nt0385\", \"tv0186\", \"sv1394\",\n",
        "                            \"sv1752\", \"sv1555\", \"sy0594\"]\n",
        "\n",
        "# Call the function to divide students into groups\n",
        "grouped_students = divide_students_into_groups(student_list_spring_2024)\n",
        "\n",
        "# Display the groups\n",
        "for i, group in enumerate(grouped_students, start=1):\n",
        "    print(f\"Group {i}: {group}\")"
      ]
    },
    {
      "cell_type": "markdown",
      "metadata": {
        "id": "fmZ9vX20Qs3d"
      },
      "source": [
        "(16) Create a program that takes a positive integer 'n' as input and prints the count of even numbers from 1 to 'n'. Optimize the loop using the break statement."
      ]
    },
    {
      "cell_type": "code",
      "execution_count": 16,
      "metadata": {
        "id": "W8Jw6sWMQs3d",
        "colab": {
          "base_uri": "https://localhost:8080/"
        },
        "outputId": "2af4107c-9c7f-4a54-d2da-dc9d9369c81e"
      },
      "outputs": [
        {
          "output_type": "stream",
          "name": "stdout",
          "text": [
            "Enter a positive integer 'n': 34\n",
            "Count of even numbers from 1 to 34: 9\n"
          ]
        }
      ],
      "source": [
        "def count_even_numbers(n):\n",
        "    if n < 1:\n",
        "        print(\"Please enter a positive integer.\")\n",
        "        return\n",
        "\n",
        "    count = 0\n",
        "\n",
        "    for num in range(1, n + 1):\n",
        "        if num % 2 == 0:\n",
        "            count += 1\n",
        "        if num > n / 2:\n",
        "            # Break the loop once we reach half of the range\n",
        "            break\n",
        "\n",
        "    print(f\"Count of even numbers from 1 to {n}: {count}\")\n",
        "\n",
        "# Example usage\n",
        "user_input = input(\"Enter a positive integer 'n': \")\n",
        "\n",
        "try:\n",
        "    n = int(user_input)\n",
        "    count_even_numbers(n)\n",
        "except ValueError:\n",
        "    print(\"Invalid input. Please enter a valid positive integer.\")"
      ]
    },
    {
      "cell_type": "markdown",
      "metadata": {
        "id": "hvq4APMhQs3d"
      },
      "source": [
        "(17) Develop a Python function called 'count_vowels' that takes a string as input and returns the count of vowels (both lowercase and uppercase) present in the string, ignoring spaces and non-alphabetic characters."
      ]
    },
    {
      "cell_type": "code",
      "execution_count": 17,
      "metadata": {
        "id": "ZnoxhSglQs3d",
        "colab": {
          "base_uri": "https://localhost:8080/"
        },
        "outputId": "cccf5e8b-b0b8-4816-b3b4-e26a6a5dee5b"
      },
      "outputs": [
        {
          "output_type": "stream",
          "name": "stdout",
          "text": [
            "Enter a string: Hello world\n",
            "Count of vowels in the string: 3\n"
          ]
        }
      ],
      "source": [
        "def count_vowels(input_string):\n",
        "    vowels = \"aeiouAEIOU\"\n",
        "    count = 0\n",
        "\n",
        "    for char in input_string:\n",
        "        if char.isalpha() and char.lower() in vowels:\n",
        "            count += 1\n",
        "\n",
        "    return count\n",
        "\n",
        "# Example usage\n",
        "user_input = input(\"Enter a string: \")\n",
        "result = count_vowels(user_input)\n",
        "\n",
        "print(f\"Count of vowels in the string: {result}\")"
      ]
    },
    {
      "cell_type": "markdown",
      "source": [
        "(18) Create a custom exception named ValueTooSmallError in Python. Write a program that takes user input for an age, and if the entered age is less than 18, raise the ValueTooSmallError with an appropriate error message."
      ],
      "metadata": {
        "id": "55FWoSJPVVM6"
      }
    },
    {
      "cell_type": "code",
      "source": [
        "class ValueTooSmallError(Exception):\n",
        "    pass\n",
        "\n",
        "def get_user_age():\n",
        "    try:\n",
        "        age = int(input(\"Enter your age: \"))\n",
        "        if age < 18:\n",
        "            raise ValueTooSmallError(\"Age must be 18 or older.\")\n",
        "        else:\n",
        "            print(\"Valid age entered:\", age)\n",
        "    except ValueError:\n",
        "        print(\"Invalid input. Please enter a valid integer.\")\n",
        "\n",
        "# Example usage\n",
        "try:\n",
        "    get_user_age()\n",
        "except ValueTooSmallError as e:\n",
        "    print(f\"Error: {e}\")"
      ],
      "metadata": {
        "id": "hwtr1wZmVX5A",
        "colab": {
          "base_uri": "https://localhost:8080/"
        },
        "outputId": "532be4c7-0f37-4fc3-900f-9d276653926d"
      },
      "execution_count": 18,
      "outputs": [
        {
          "output_type": "stream",
          "name": "stdout",
          "text": [
            "Enter your age: 15\n",
            "Error: Age must be 18 or older.\n"
          ]
        }
      ]
    },
    {
      "cell_type": "markdown",
      "source": [
        "(19) Develop a script that reverses a given string without using built-in reverse functions."
      ],
      "metadata": {
        "id": "Q9ecagcaVazW"
      }
    },
    {
      "cell_type": "code",
      "source": [
        "def reverse_string(input_string):\n",
        "    reversed_str = \"\"\n",
        "\n",
        "    # Iterate through the characters in the string in reverse order\n",
        "    for char in input_string[::-1]:\n",
        "        reversed_str += char\n",
        "\n",
        "    return reversed_str\n",
        "\n",
        "# Example usage\n",
        "user_input = input(\"Enter a string: \")\n",
        "result = reverse_string(user_input)\n",
        "\n",
        "print(\"Reversed string:\", result)"
      ],
      "metadata": {
        "id": "gycgckoAVZjR",
        "colab": {
          "base_uri": "https://localhost:8080/"
        },
        "outputId": "d812751b-4e78-472e-b68c-d8d2c2ed3972"
      },
      "execution_count": 19,
      "outputs": [
        {
          "output_type": "stream",
          "name": "stdout",
          "text": [
            "Enter a string: Hello World\n",
            "Reversed string: dlroW olleH\n"
          ]
        }
      ]
    },
    {
      "cell_type": "markdown",
      "source": [
        "(20) Implement a Python script to generate a random password of a specified length."
      ],
      "metadata": {
        "id": "ZFG6RibifMLu"
      }
    },
    {
      "cell_type": "code",
      "source": [
        "import random\n",
        "import string\n",
        "\n",
        "def generate_random_password(length):\n",
        "    # Define characters to include in the password\n",
        "    characters = string.ascii_letters + string.digits + string.punctuation\n",
        "\n",
        "    # Ensure length is at least 8\n",
        "    length = max(length, 8)\n",
        "\n",
        "    # Generate random password\n",
        "    password = ''.join(random.choice(characters) for _ in range(length))\n",
        "\n",
        "    return password\n",
        "\n",
        "# Example usage\n",
        "password_length = int(input(\"Enter the desired password length: \"))\n",
        "random_password = generate_random_password(password_length)\n",
        "\n",
        "print(\"Generated Password:\", random_password)"
      ],
      "metadata": {
        "id": "BFVrkEi9fNiD",
        "colab": {
          "base_uri": "https://localhost:8080/"
        },
        "outputId": "b4a46303-405a-4ddb-dae9-d6992649c258"
      },
      "execution_count": 20,
      "outputs": [
        {
          "output_type": "stream",
          "name": "stdout",
          "text": [
            "Enter the desired password length: 5\n",
            "Generated Password: 0aL&)R^|\n"
          ]
        }
      ]
    },
    {
      "cell_type": "markdown",
      "source": [
        "# Try these questions:"
      ],
      "metadata": {
        "id": "6SmvS7nSfbj8"
      }
    },
    {
      "cell_type": "markdown",
      "source": [
        "(21) Define a base class called 'Vehicle' with attributes make and model. Create a derived class Car that inherits from Vehicle and has an additional attribute 'num_doors'. Demonstrate an example of creating an instance of the 'Car' class and accessing its attributes."
      ],
      "metadata": {
        "id": "cboAr5pEWUf5"
      }
    },
    {
      "cell_type": "code",
      "source": [
        "# write your answer here\n"
      ],
      "metadata": {
        "id": "phs9gciMWWAW"
      },
      "execution_count": 21,
      "outputs": []
    },
    {
      "cell_type": "markdown",
      "source": [
        "(22) Create a class called 'Shape' with a method calculate_area(). Implement two derived classes 'Circle' and 'Rectangle' that inherit from Shape and override the calculate_area() method. Demonstrate polymorphism by creating instances of both derived classes and calling the calculate_area() method."
      ],
      "metadata": {
        "id": "J8HHefNtePwd"
      }
    },
    {
      "cell_type": "code",
      "source": [
        "# write your answer here"
      ],
      "metadata": {
        "id": "btnMmUZDeRhS"
      },
      "execution_count": 22,
      "outputs": []
    },
    {
      "cell_type": "markdown",
      "source": [
        "(23) Write a Python program that prompts the user to enter two numbers and perform a division operation. Handle exceptions for both zero division and invalid input (non-numeric input). Display appropriate error messages for each type of exception and ensure the program does not crash due to these errors."
      ],
      "metadata": {
        "id": "z0oqEAlTeMUS"
      }
    },
    {
      "cell_type": "code",
      "source": [
        "# write your answer here"
      ],
      "metadata": {
        "id": "yjdc1zM1eMAs"
      },
      "execution_count": 23,
      "outputs": []
    },
    {
      "cell_type": "markdown",
      "source": [
        "# Mandatory Question"
      ],
      "metadata": {
        "id": "sZOhks1dXWEe"
      }
    },
    {
      "cell_type": "markdown",
      "source": [
        "**Important:**\n",
        "Reflecting on the first three lectures and the exercises you've completed, please provide feedback on your learning experience. Share your thoughts on whether the material covered was clear, the exercises were helpful, and if you feel more confident in applying Python programming concepts. Additionally, mention any specific areas where you would like more clarification or topics you would like to explore further in future lectures. Your feedback is valuable in shaping the course for an effective learning journey."
      ],
      "metadata": {
        "id": "eqmHVEwaWhbV"
      }
    },
    {
      "cell_type": "markdown",
      "source": [
        "Write your response here."
      ],
      "metadata": {
        "id": "HlpXOT9wXQAd"
      }
    },
    {
      "cell_type": "markdown",
      "source": [
        "According to me, from last three lectures, I learnt basics of Python, NLP(Basic) and introduction of some helpful tools very clearly and deeply. This excercise is also very helpful to get experience in Python. Additionally, I would like to explore more in NLP in future lectures. Thank you."
      ],
      "metadata": {
        "id": "4y9MsOPnm8TQ"
      }
    }
  ],
  "metadata": {
    "colab": {
      "provenance": [],
      "collapsed_sections": [
        "6SmvS7nSfbj8"
      ],
      "include_colab_link": true
    },
    "kernelspec": {
      "display_name": "Python 3 (ipykernel)",
      "language": "python",
      "name": "python3"
    },
    "language_info": {
      "codemirror_mode": {
        "name": "ipython",
        "version": 3
      },
      "file_extension": ".py",
      "mimetype": "text/x-python",
      "name": "python",
      "nbconvert_exporter": "python",
      "pygments_lexer": "ipython3",
      "version": "3.9.12"
    }
  },
  "nbformat": 4,
  "nbformat_minor": 0
}